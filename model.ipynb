{
  "nbformat": 4,
  "nbformat_minor": 0,
  "metadata": {
    "colab": {
      "provenance": [],
      "mount_file_id": "1ZcTjrOj4TX6w2ARbyzI5feTAH34RN66E",
      "authorship_tag": "ABX9TyNsfUy3/73ggFySdnI+Qy13",
      "include_colab_link": true
    },
    "kernelspec": {
      "name": "python3",
      "display_name": "Python 3"
    },
    "language_info": {
      "name": "python"
    }
  },
  "cells": [
    {
      "cell_type": "markdown",
      "metadata": {
        "id": "view-in-github",
        "colab_type": "text"
      },
      "source": [
        "<a href=\"https://colab.research.google.com/github/yashkarale06/Speech_Emotion_Recognizer/blob/main/model.ipynb\" target=\"_parent\"><img src=\"https://colab.research.google.com/assets/colab-badge.svg\" alt=\"Open In Colab\"/></a>"
      ]
    },
    {
      "cell_type": "code",
      "source": [
        "pip install scikit-learn"
      ],
      "metadata": {
        "colab": {
          "base_uri": "https://localhost:8080/"
        },
        "id": "5fOPPKofQHUh",
        "outputId": "b965e5c2-2097-44fd-f8ce-579992f451ba"
      },
      "execution_count": null,
      "outputs": [
        {
          "output_type": "stream",
          "name": "stdout",
          "text": [
            "Requirement already satisfied: scikit-learn in /usr/local/lib/python3.10/dist-packages (1.2.2)\n",
            "Requirement already satisfied: numpy>=1.17.3 in /usr/local/lib/python3.10/dist-packages (from scikit-learn) (1.25.2)\n",
            "Requirement already satisfied: scipy>=1.3.2 in /usr/local/lib/python3.10/dist-packages (from scikit-learn) (1.11.4)\n",
            "Requirement already satisfied: joblib>=1.1.1 in /usr/local/lib/python3.10/dist-packages (from scikit-learn) (1.3.2)\n",
            "Requirement already satisfied: threadpoolctl>=2.0.0 in /usr/local/lib/python3.10/dist-packages (from scikit-learn) (3.3.0)\n"
          ]
        }
      ]
    },
    {
      "cell_type": "code",
      "source": [
        "import librosa\n",
        "\n",
        "import soundfile\n",
        "\n",
        "import os\n",
        "import glob\n",
        "import pickle\n",
        "import numpy as np\n",
        "import matplotlib.pyplot as plt\n",
        "\n",
        "import sklearn\n",
        "from sklearn.model_selection import train_test_split\n",
        "from sklearn.neural_network import MLPClassifier\n",
        "from sklearn.metrics import accuracy_score\n",
        "\n",
        "print(librosa.__version__)\n",
        "print(soundfile.__version__)\n",
        "print(sklearn.__version__)"
      ],
      "metadata": {
        "colab": {
          "base_uri": "https://localhost:8080/"
        },
        "id": "JnKDJIV4_nSt",
        "outputId": "0fcdaed2-1fda-4f19-9fbb-4367fe51ad5f"
      },
      "execution_count": null,
      "outputs": [
        {
          "output_type": "stream",
          "name": "stdout",
          "text": [
            "0.10.1\n",
            "0.12.1\n",
            "1.2.2\n"
          ]
        }
      ]
    },
    {
      "cell_type": "code",
      "source": [
        "def extract_feature(file_name,mfcc,chroma,mel):\n",
        "    with soundfile.SoundFile(file_name) as sound_file:\n",
        "        X=sound_file.read(dtype=\"float32\")\n",
        "        sample_rate=sound_file.samplerate\n",
        "        if chroma:\n",
        "            stft=np.abs(librosa.stft(X))\n",
        "        result=np.array([])\n",
        "        if mfcc:\n",
        "            mfccs=np.mean(librosa.feature.mfcc(y=X,sr=sample_rate,n_mfcc=40).T,axis=0)\n",
        "            result=np.hstack((result,mfccs))\n",
        "        if chroma:\n",
        "            chroma=np.mean(librosa.feature.chroma_stft(S=stft,sr=sample_rate).T,axis=0)\n",
        "            result=np.hstack((result,chroma))\n",
        "        if mel:\n",
        "            mel=np.mean(librosa.feature.melspectrogram(X,sr=sample_rate).T,axis=0)\n",
        "            result=np.hstack((result,mel))\n",
        "    return result\n",
        "\n",
        "\n",
        "emotions={\n",
        "    \"01\":\"neutral\",\n",
        "    \"02\":\"calm\",\n",
        "    \"03\":\"happy\",\n",
        "    \"04\":\"sad\",\n",
        "    \"05\":\"angry\",\n",
        "    \"06\":\"fearful\",\n",
        "    \"07\":\"disgust\",\n",
        "    \"08\":\"surprised\"\n",
        "}"
      ],
      "metadata": {
        "id": "DnwZRfBN_tYP"
      },
      "execution_count": null,
      "outputs": []
    },
    {
      "cell_type": "code",
      "source": [],
      "metadata": {
        "id": "DIUbViRge-Oi"
      },
      "execution_count": null,
      "outputs": []
    },
    {
      "cell_type": "code",
      "source": [
        "xsum=0\n",
        "root=\"/content/drive/MyDrive/Colab Notebooks/Speech Emotion Prj /data/data\"\n",
        "for path,dir,files in os.walk(\"/content/drive/MyDrive/Colab Notebooks/Speech Emotion Prj /data/data\"):\n",
        "    xsum+=(len(files))"
      ],
      "metadata": {
        "id": "CqnQyhmS_xfU"
      },
      "execution_count": null,
      "outputs": []
    },
    {
      "cell_type": "code",
      "source": [
        "for file in glob.glob(\"/content/drive/MyDrive/Colab Notebooks/Speech Emotion Prj /data/data/Actor_*[0-9]*/*\"):\n",
        "    file_name=os.path.basename(file)\n"
      ],
      "metadata": {
        "id": "ldP-yWFE_7BK"
      },
      "execution_count": null,
      "outputs": []
    },
    {
      "cell_type": "code",
      "source": [
        "observed_emotions=[\"calm\",\"happy\",\"fearful\",\"disgust\",\"sad\"]"
      ],
      "metadata": {
        "id": "rLBRpjX_AMn4"
      },
      "execution_count": null,
      "outputs": []
    },
    {
      "cell_type": "code",
      "source": [
        "def load_data(test_size=0.2):\n",
        "    x,y=[],[]\n",
        "    for file in glob.glob(\"/content/drive/MyDrive/Colab Notebooks/Speech Emotion Prj /data/data/Actor_*[0-9]*/*\"):\n",
        "        file_name=os.path.basename(file)\n",
        "        emotion=emotions[file_name.split(\"-\")[2]]\n",
        "        if emotion not in observed_emotions:\n",
        "            continue\n",
        "        feature=extract_feature(file,mfcc=True,chroma=True,mel=False)\n",
        "        x.append(feature)\n",
        "        y.append(emotion)\n",
        "\n",
        "    return train_test_split(np.array(x),y,test_size=test_size,random_state=9)"
      ],
      "metadata": {
        "id": "BJcMtXbsAnVb"
      },
      "execution_count": null,
      "outputs": []
    },
    {
      "cell_type": "code",
      "source": [
        "x_train,x_test,y_train,y_test=load_data(test_size=0.25)"
      ],
      "metadata": {
        "id": "zA41Msm5BA3_"
      },
      "execution_count": null,
      "outputs": []
    },
    {
      "cell_type": "code",
      "source": [
        "print((x_train.shape[0],x_test.shape[0]))"
      ],
      "metadata": {
        "colab": {
          "base_uri": "https://localhost:8080/"
        },
        "id": "HYQpjElDBDiE",
        "outputId": "03204f17-1876-48d2-9527-b754c6b57c8b"
      },
      "execution_count": null,
      "outputs": [
        {
          "output_type": "stream",
          "name": "stdout",
          "text": [
            "(736, 246)\n"
          ]
        }
      ]
    },
    {
      "cell_type": "code",
      "source": [
        "print(f'features extracted: {x_train.shape[1]}')\n",
        "print(x_train.shape)\n",
        "print(x_train[1])"
      ],
      "metadata": {
        "colab": {
          "base_uri": "https://localhost:8080/"
        },
        "id": "_3Vwwb0YB9-k",
        "outputId": "64a7ecf4-fe03-4e88-bee5-24195676850c"
      },
      "execution_count": null,
      "outputs": [
        {
          "output_type": "stream",
          "name": "stdout",
          "text": [
            "features extracted: 52\n",
            "(736, 52)\n",
            "[-6.60850037e+02  3.42007332e+01 -1.21250420e+01 -1.58513081e+00\n",
            " -1.09290409e+01 -1.00770330e+01 -1.44498253e+01 -9.08841324e+00\n",
            " -8.75139618e+00 -7.59106398e+00 -4.23778868e+00 -7.12754583e+00\n",
            " -5.98362589e+00 -3.06900239e+00 -8.16497135e+00 -3.94152594e+00\n",
            " -6.94197798e+00 -2.00837016e+00 -4.48702621e+00 -1.90647352e+00\n",
            " -4.04043272e-02  5.99369586e-01  1.96189141e+00 -3.89542460e-01\n",
            " -2.07319260e+00  5.90466037e-02  6.96083128e-01  4.91166687e+00\n",
            "  6.54014587e+00  8.72566414e+00  7.25488806e+00  6.02628279e+00\n",
            "  3.79026699e+00  5.70813566e-02 -2.34687138e+00 -2.61494040e-01\n",
            " -3.97420555e-01 -1.66754222e+00 -3.06189394e+00 -2.65615535e+00\n",
            "  4.56418782e-01  4.90401268e-01  5.37594259e-01  4.61631775e-01\n",
            "  4.53075737e-01  4.55844045e-01  4.84086543e-01  6.39478207e-01\n",
            "  6.42538667e-01  5.79735577e-01  5.15538037e-01  4.76793230e-01]\n"
          ]
        }
      ]
    },
    {
      "cell_type": "code",
      "source": [
        "model=MLPClassifier(alpha=0.01,batch_size=256,epsilon=1e-08,hidden_layer_sizes=(300,),learning_rate=\"adaptive\",max_iter=500)"
      ],
      "metadata": {
        "id": "thUIsMAXCAno"
      },
      "execution_count": null,
      "outputs": []
    },
    {
      "cell_type": "code",
      "source": [
        "model.fit(x_train,y_train)"
      ],
      "metadata": {
        "colab": {
          "base_uri": "https://localhost:8080/",
          "height": 92
        },
        "id": "A-nrxWb4CGuW",
        "outputId": "9d3e3ee4-1e91-4da2-8e9e-2f612981e700"
      },
      "execution_count": null,
      "outputs": [
        {
          "output_type": "execute_result",
          "data": {
            "text/plain": [
              "MLPClassifier(alpha=0.01, batch_size=256, hidden_layer_sizes=(300,),\n",
              "              learning_rate='adaptive', max_iter=500)"
            ],
            "text/html": [
              "<style>#sk-container-id-1 {color: black;background-color: white;}#sk-container-id-1 pre{padding: 0;}#sk-container-id-1 div.sk-toggleable {background-color: white;}#sk-container-id-1 label.sk-toggleable__label {cursor: pointer;display: block;width: 100%;margin-bottom: 0;padding: 0.3em;box-sizing: border-box;text-align: center;}#sk-container-id-1 label.sk-toggleable__label-arrow:before {content: \"▸\";float: left;margin-right: 0.25em;color: #696969;}#sk-container-id-1 label.sk-toggleable__label-arrow:hover:before {color: black;}#sk-container-id-1 div.sk-estimator:hover label.sk-toggleable__label-arrow:before {color: black;}#sk-container-id-1 div.sk-toggleable__content {max-height: 0;max-width: 0;overflow: hidden;text-align: left;background-color: #f0f8ff;}#sk-container-id-1 div.sk-toggleable__content pre {margin: 0.2em;color: black;border-radius: 0.25em;background-color: #f0f8ff;}#sk-container-id-1 input.sk-toggleable__control:checked~div.sk-toggleable__content {max-height: 200px;max-width: 100%;overflow: auto;}#sk-container-id-1 input.sk-toggleable__control:checked~label.sk-toggleable__label-arrow:before {content: \"▾\";}#sk-container-id-1 div.sk-estimator input.sk-toggleable__control:checked~label.sk-toggleable__label {background-color: #d4ebff;}#sk-container-id-1 div.sk-label input.sk-toggleable__control:checked~label.sk-toggleable__label {background-color: #d4ebff;}#sk-container-id-1 input.sk-hidden--visually {border: 0;clip: rect(1px 1px 1px 1px);clip: rect(1px, 1px, 1px, 1px);height: 1px;margin: -1px;overflow: hidden;padding: 0;position: absolute;width: 1px;}#sk-container-id-1 div.sk-estimator {font-family: monospace;background-color: #f0f8ff;border: 1px dotted black;border-radius: 0.25em;box-sizing: border-box;margin-bottom: 0.5em;}#sk-container-id-1 div.sk-estimator:hover {background-color: #d4ebff;}#sk-container-id-1 div.sk-parallel-item::after {content: \"\";width: 100%;border-bottom: 1px solid gray;flex-grow: 1;}#sk-container-id-1 div.sk-label:hover label.sk-toggleable__label {background-color: #d4ebff;}#sk-container-id-1 div.sk-serial::before {content: \"\";position: absolute;border-left: 1px solid gray;box-sizing: border-box;top: 0;bottom: 0;left: 50%;z-index: 0;}#sk-container-id-1 div.sk-serial {display: flex;flex-direction: column;align-items: center;background-color: white;padding-right: 0.2em;padding-left: 0.2em;position: relative;}#sk-container-id-1 div.sk-item {position: relative;z-index: 1;}#sk-container-id-1 div.sk-parallel {display: flex;align-items: stretch;justify-content: center;background-color: white;position: relative;}#sk-container-id-1 div.sk-item::before, #sk-container-id-1 div.sk-parallel-item::before {content: \"\";position: absolute;border-left: 1px solid gray;box-sizing: border-box;top: 0;bottom: 0;left: 50%;z-index: -1;}#sk-container-id-1 div.sk-parallel-item {display: flex;flex-direction: column;z-index: 1;position: relative;background-color: white;}#sk-container-id-1 div.sk-parallel-item:first-child::after {align-self: flex-end;width: 50%;}#sk-container-id-1 div.sk-parallel-item:last-child::after {align-self: flex-start;width: 50%;}#sk-container-id-1 div.sk-parallel-item:only-child::after {width: 0;}#sk-container-id-1 div.sk-dashed-wrapped {border: 1px dashed gray;margin: 0 0.4em 0.5em 0.4em;box-sizing: border-box;padding-bottom: 0.4em;background-color: white;}#sk-container-id-1 div.sk-label label {font-family: monospace;font-weight: bold;display: inline-block;line-height: 1.2em;}#sk-container-id-1 div.sk-label-container {text-align: center;}#sk-container-id-1 div.sk-container {/* jupyter's `normalize.less` sets `[hidden] { display: none; }` but bootstrap.min.css set `[hidden] { display: none !important; }` so we also need the `!important` here to be able to override the default hidden behavior on the sphinx rendered scikit-learn.org. See: https://github.com/scikit-learn/scikit-learn/issues/21755 */display: inline-block !important;position: relative;}#sk-container-id-1 div.sk-text-repr-fallback {display: none;}</style><div id=\"sk-container-id-1\" class=\"sk-top-container\"><div class=\"sk-text-repr-fallback\"><pre>MLPClassifier(alpha=0.01, batch_size=256, hidden_layer_sizes=(300,),\n",
              "              learning_rate=&#x27;adaptive&#x27;, max_iter=500)</pre><b>In a Jupyter environment, please rerun this cell to show the HTML representation or trust the notebook. <br />On GitHub, the HTML representation is unable to render, please try loading this page with nbviewer.org.</b></div><div class=\"sk-container\" hidden><div class=\"sk-item\"><div class=\"sk-estimator sk-toggleable\"><input class=\"sk-toggleable__control sk-hidden--visually\" id=\"sk-estimator-id-1\" type=\"checkbox\" checked><label for=\"sk-estimator-id-1\" class=\"sk-toggleable__label sk-toggleable__label-arrow\">MLPClassifier</label><div class=\"sk-toggleable__content\"><pre>MLPClassifier(alpha=0.01, batch_size=256, hidden_layer_sizes=(300,),\n",
              "              learning_rate=&#x27;adaptive&#x27;, max_iter=500)</pre></div></div></div></div></div>"
            ]
          },
          "metadata": {},
          "execution_count": 12
        }
      ]
    },
    {
      "cell_type": "code",
      "source": [
        "model.score(x_train,y_train)"
      ],
      "metadata": {
        "colab": {
          "base_uri": "https://localhost:8080/"
        },
        "id": "suTMjNeQCIjU",
        "outputId": "6233f74b-e3d4-422b-c0f4-4a0819d1b8af"
      },
      "execution_count": null,
      "outputs": [
        {
          "output_type": "execute_result",
          "data": {
            "text/plain": [
              "0.78125"
            ]
          },
          "metadata": {},
          "execution_count": 13
        }
      ]
    },
    {
      "cell_type": "code",
      "source": [
        "y_pred=model.predict(x_test)"
      ],
      "metadata": {
        "id": "cawxA05HCPxv"
      },
      "execution_count": null,
      "outputs": []
    },
    {
      "cell_type": "code",
      "source": [
        "accuracy=accuracy_score(y_true=y_test,y_pred=y_pred)"
      ],
      "metadata": {
        "id": "M4M7O3kMCSOw"
      },
      "execution_count": null,
      "outputs": []
    },
    {
      "cell_type": "code",
      "source": [
        "print(\"Accuracy :{:.2f}%\".format(accuracy*100))\n",
        "\n",
        "y_pred[:10]"
      ],
      "metadata": {
        "colab": {
          "base_uri": "https://localhost:8080/"
        },
        "id": "tZob9MfPCVOh",
        "outputId": "6bf6e75c-4026-43d8-d709-95b852538d53"
      },
      "execution_count": null,
      "outputs": [
        {
          "output_type": "stream",
          "name": "stdout",
          "text": [
            "Accuracy :60.98%\n"
          ]
        },
        {
          "output_type": "execute_result",
          "data": {
            "text/plain": [
              "array(['sad', 'disgust', 'disgust', 'sad', 'calm', 'fearful', 'disgust',\n",
              "       'calm', 'sad', 'calm'], dtype='<U7')"
            ]
          },
          "metadata": {},
          "execution_count": 16
        }
      ]
    },
    {
      "cell_type": "code",
      "source": [
        "loss_values=model.loss_curve_\n",
        "plt.plot(loss_values)\n",
        "plt.show()"
      ],
      "metadata": {
        "colab": {
          "base_uri": "https://localhost:8080/",
          "height": 433
        },
        "id": "m_QEIajGCaF7",
        "outputId": "986cdaf2-6b10-4cf4-a3ee-080502bc0661"
      },
      "execution_count": null,
      "outputs": [
        {
          "output_type": "display_data",
          "data": {
            "text/plain": [
              "<Figure size 640x480 with 1 Axes>"
            ],
            "image/png": "[encoded data removed]"
          },
          "metadata": {}
        }
      ]
    },
    {
      "cell_type": "code",
      "source": [
        "model1=MLPClassifier(alpha=0.0009,batch_size=128,hidden_layer_sizes=(200,200,100,50),learning_rate=\"adaptive\",max_iter=500)"
      ],
      "metadata": {
        "id": "cxX97fbOChBL"
      },
      "execution_count": null,
      "outputs": []
    },
    {
      "cell_type": "code",
      "source": [
        "model1.fit(x_train,y_train)\n",
        "\n",
        "model1.score(x_train,y_train)"
      ],
      "metadata": {
        "colab": {
          "base_uri": "https://localhost:8080/"
        },
        "id": "Nthr8xwRC5zY",
        "outputId": "71d93363-b373-4867-a686-dfca7ae66fa3"
      },
      "execution_count": null,
      "outputs": [
        {
          "output_type": "execute_result",
          "data": {
            "text/plain": [
              "0.779891304347826"
            ]
          },
          "metadata": {},
          "execution_count": 19
        }
      ]
    },
    {
      "cell_type": "code",
      "source": [
        "y_pred1=model1.predict(x_test)"
      ],
      "metadata": {
        "id": "UQCtU6gAC7xs"
      },
      "execution_count": null,
      "outputs": []
    },
    {
      "cell_type": "code",
      "source": [
        "accuracy1=accuracy_score(y_true=y_test,y_pred=y_pred1)"
      ],
      "metadata": {
        "id": "6FEa18qSC_5B"
      },
      "execution_count": null,
      "outputs": []
    },
    {
      "cell_type": "code",
      "source": [
        "print(\"Accuracy :{:.2f}%\".format(accuracy1*100))"
      ],
      "metadata": {
        "colab": {
          "base_uri": "https://localhost:8080/"
        },
        "id": "BHeIg7UDDCa_",
        "outputId": "5df7835a-b64f-45f6-f2c0-f96ccdf986f7"
      },
      "execution_count": null,
      "outputs": [
        {
          "output_type": "stream",
          "name": "stdout",
          "text": [
            "Accuracy :61.38%\n"
          ]
        }
      ]
    },
    {
      "cell_type": "code",
      "source": [
        "loss_values1=model1.loss_curve_"
      ],
      "metadata": {
        "id": "HSrI53FrDN1Z"
      },
      "execution_count": null,
      "outputs": []
    },
    {
      "cell_type": "code",
      "source": [
        "plt.plot(loss_values1)\n",
        "plt.show()\n"
      ],
      "metadata": {
        "colab": {
          "base_uri": "https://localhost:8080/",
          "height": 430
        },
        "id": "NlBY_7-BDQBU",
        "outputId": "f4adfbc2-e860-491a-bd24-e2b97307a16c"
      },
      "execution_count": null,
      "outputs": [
        {
          "output_type": "display_data",
          "data": {
            "text/plain": [
              "<Figure size 640x480 with 1 Axes>"
            ],
            "image/png": "[encoded data removed]"
          },
          "metadata": {}
        }
      ]
    },
    {
      "cell_type": "code",
      "source": [
        "import pickle\n",
        "\n",
        "vars(pickle).keys()\n",
        "\n",
        "pickle.dump(model1,open(\"/content/drive/MyDrive/Colab Notebooks/Speech Emotion Prj /data/data/m4.pkl\",\"wb\"))"
      ],
      "metadata": {
        "id": "sJnUMohJDR_k"
      },
      "execution_count": null,
      "outputs": []
    },
    {
      "cell_type": "code",
      "source": [
        "modle_1 = pickle.load(open(\"/content/drive/MyDrive/Colab Notebooks/Speech Emotion Prj /data/data/m1.pkl\",\"rb\"))"
      ],
      "metadata": {
        "id": "2NQ_ppSaDkSa"
      },
      "execution_count": null,
      "outputs": []
    },
    {
      "cell_type": "code",
      "source": [
        "modle_2 = pickle.load(open(\"/content/drive/MyDrive/Colab Notebooks/Speech Emotion Prj /data/data/m2.pkl\",\"rb\"))"
      ],
      "metadata": {
        "id": "HoTPi14CRBKa"
      },
      "execution_count": null,
      "outputs": []
    },
    {
      "cell_type": "code",
      "source": [
        "import pickle\n",
        "\n",
        "modle_1 = pickle.load(open(\"/content/drive/MyDrive/Colab Notebooks/Speech Emotion Prj /data/data/m1.pkl\", \"rb\"))\n"
      ],
      "metadata": {
        "id": "rsfseL8ZRgJs"
      },
      "execution_count": null,
      "outputs": []
    },
    {
      "cell_type": "code",
      "source": [
        "!pip install sounddevice"
      ],
      "metadata": {
        "colab": {
          "base_uri": "https://localhost:8080/"
        },
        "id": "3pFghTmiM25h",
        "outputId": "a1af5783-ff02-4b27-e062-e63532b5c787"
      },
      "execution_count": null,
      "outputs": [
        {
          "output_type": "stream",
          "name": "stdout",
          "text": [
            "Collecting sounddevice\n",
            "  Downloading sounddevice-0.4.6-py3-none-any.whl (31 kB)\n",
            "Requirement already satisfied: CFFI>=1.0 in /usr/local/lib/python3.10/dist-packages (from sounddevice) (1.16.0)\n",
            "Requirement already satisfied: pycparser in /usr/local/lib/python3.10/dist-packages (from CFFI>=1.0->sounddevice) (2.21)\n",
            "Installing collected packages: sounddevice\n",
            "Successfully installed sounddevice-0.4.6\n"
          ]
        }
      ]
    },
    {
      "cell_type": "code",
      "source": [
        "\n",
        "import numpy as np\n",
        "import librosa\n",
        "from sklearn.neural_network import MLPClassifier\n",
        "\n",
        "model = pickle.load(open(\"/content/drive/MyDrive/Colab Notebooks/Speech Emotion Prj /data/data/m1.pkl\", \"rb\"))\n",
        "def extract_audio_features(signal, sample_rate):\n",
        "    mfccs = np.mean(librosa.feature.mfcc(y=signal, sr=sample_rate, n_mfcc=40).T, axis=0)\n",
        "    chroma = np.mean(librosa.feature.chroma_stft(S=np.abs(librosa.stft(signal)), sr=sample_rate).T, axis=0)\n",
        "    mel = np.mean(librosa.feature.melspectrogram(y=signal, sr=sample_rate).T, axis=0)\n",
        "\n",
        "    mfccs = mfccs[:12]\n",
        "\n",
        "    return np.hstack((mfccs, chroma, mel))[:52]\n",
        "\n",
        "\n",
        "wav_file_path = \"/content/drive/MyDrive/Colab Notebooks/Speech Emotion Prj /data/data/Actor_11/03-01-01-01-01-01-11.wav\"\n",
        "\n",
        "\n",
        "audio_data, sample_rate = librosa.load(wav_file_path, sr=None, mono=True)\n",
        "\n",
        "\n",
        "audio_features = extract_audio_features(audio_data, sample_rate)\n",
        "\n",
        "\n",
        "audio_features = audio_features.reshape(1, -1)\n",
        "\n",
        "\n",
        "emotion_prediction = model.predict(audio_features)\n",
        "\n",
        "\n",
        "print(\"Predicted Emotion:\", emotion_prediction[0])\n"
      ],
      "metadata": {
        "colab": {
          "base_uri": "https://localhost:8080/"
        },
        "id": "AbI3MHc8OcVF",
        "outputId": "62a9042f-e67d-44a3-ad42-34c9ad8c4d9c"
      },
      "execution_count": null,
      "outputs": [
        {
          "output_type": "stream",
          "name": "stdout",
          "text": [
            "Predicted Emotion: calm\n"
          ]
        }
      ]
    },
    {
      "cell_type": "code",
      "source": [],
      "metadata": {
        "id": "WydijL4SZnqW"
      },
      "execution_count": null,
      "outputs": []
    }
  ]
}